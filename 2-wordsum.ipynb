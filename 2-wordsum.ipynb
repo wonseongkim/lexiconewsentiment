{
 "cells": [
  {
   "cell_type": "code",
   "execution_count": null,
   "metadata": {},
   "outputs": [],
   "source": [
    "# Environment setup #base(python 3.8.6)\n",
    "import pandas as pd\n",
    "import re\n",
    "import xlrd\n",
    "import openpyxl\n",
    "import pandas as pd\n",
    "import matplotlib.pyplot as plt\n",
    "import urllib.request\n",
    "import gensim\n",
    "from gensim.models.word2vec import Word2Vec\n",
    "from konlpy.tag import Okt\n",
    "import os"
   ]
  },
  {
   "cell_type": "code",
   "execution_count": null,
   "metadata": {},
   "outputs": [],
   "source": [
    "# Replace 'your_directory_path' with the path of your desired directory\n",
    "directory_path = 'G:/academic/'\n",
    "\n",
    "# Change the working directory to the specified directory path\n",
    "os.chdir(directory_path)\n",
    "\n",
    "# Verify that the working directory has been changed by printing the current directory\n",
    "print(os.getcwd())"
   ]
  },
  {
   "cell_type": "code",
   "execution_count": null,
   "metadata": {},
   "outputs": [],
   "source": [
    "# Replace 'your_excel_file.xlsx' with the name or path of your Excel file\n",
    "file_path = 'data/data_name.xlsx'\n",
    "\n",
    "# Read the Excel file and load it into a DataFrame\n",
    "df = pd.read_excel(file_path, engine='openpyxl')\n",
    "\n",
    "# print(\"null exist:\", df.isnull().values.any()) # Null check\n",
    "# df = df.dropna(how = 'any') # Null delete\n",
    "# print(\"null exist(renew):\", df.isnull().values.any()) # Null re-check\n",
    "print(\"number of title:\", len(df)) # counting title\n",
    "\n",
    "# Display the first few rows of the DataFrame\n",
    "df.head()\n"
   ]
  },
  {
   "cell_type": "code",
   "execution_count": null,
   "metadata": {},
   "outputs": [],
   "source": [
    "# Extract the 'title' and 'company' columns as lists\n",
    "title = df['title'].tolist()\n",
    "company = df['company'].tolist()\n",
    "date = df['date'].tolist()\n",
    "\n",
    "# lexicon setting\n",
    "with open(\"code/pos_pol_word.txt\", \"r\", encoding=\"UTF-8\") as file:\n",
    "    positive = [line.strip() for line in file.readlines()[1:] if line.strip()]\n",
    "    \n",
    "with open(\"code/neg_pol_word_apartment.txt\", \"r\", encoding=\"UTF-8\") as file:\n",
    "    negative = [line.strip() for line in file.readlines()[1:] if line.strip()]\n",
    "\n",
    "# Initialize the Okt tokenizer (for Korean Language)\n",
    "okt = Okt()"
   ]
  },
  {
   "cell_type": "code",
   "execution_count": null,
   "metadata": {},
   "outputs": [],
   "source": [
    "## Sentiment function setting (Word Matching Added)\n",
    "\n",
    "def sentiment_score(title, positive, negative):\n",
    "    words = okt.morphs(title, norm=True)  # Tokenize Korean text using Okt\n",
    "\n",
    "    pos_matches = [word for word in words if word in positive]  # Find words in 'words' that are in 'positive'\n",
    "    neg_matches = [word for word in words if word in negative]\n",
    "\n",
    "    score = len(pos_matches) - len(neg_matches)  # pos-neg\n",
    "    pos_count = len(pos_matches)\n",
    "    neg_count = len(neg_matches)\n",
    "\n",
    "    return score, pos_count, neg_count, pos_matches, neg_matches\n",
    "\n",
    "def sentimental(title, company, positive, negative):\n",
    "    scores_and_counts = pd.Series(title).apply(lambda x: sentiment_score(x, positive, negative))\n",
    "    scores = [score for score, _, _, _, _ in scores_and_counts]\n",
    "    pos_counts = [pos_count for _, pos_count, _, _, _ in scores_and_counts]\n",
    "    neg_counts = [neg_count for _, _, neg_count, _, _ in scores_and_counts]\n",
    "    pos_matches = [pos_match for _, _, _, pos_match, _ in scores_and_counts]\n",
    "    neg_matches = [neg_match for _, _, _, _, neg_match in scores_and_counts]\n",
    "\n",
    "    scores_df = pd.DataFrame({'date': date, 'company': company, 'senti_score': scores, 'positive_count': pos_counts, 'negative_count': neg_counts, 'positive_matches': pos_matches, 'negative_matches': neg_matches, 'title': title})\n",
    "    return scores_df\n",
    "\n",
    "# Use the sentimental() function and save the result in the 'result' variable\n",
    "result = sentimental(title, company, positive, negative)\n",
    "\n",
    "# Save the DataFrame 'result' to an Excel file\n",
    "result.to_excel(\"wordsum_match_apartment.xlsx\", index=False, engine=\"openpyxl\")\n"
   ]
  }
 ],
 "metadata": {
  "kernelspec": {
   "display_name": "base",
   "language": "python",
   "name": "python3"
  },
  "language_info": {
   "codemirror_mode": {
    "name": "ipython",
    "version": 3
   },
   "file_extension": ".py",
   "mimetype": "text/x-python",
   "name": "python",
   "nbconvert_exporter": "python",
   "pygments_lexer": "ipython3",
   "version": "3.8.16"
  },
  "orig_nbformat": 4
 },
 "nbformat": 4,
 "nbformat_minor": 2
}
